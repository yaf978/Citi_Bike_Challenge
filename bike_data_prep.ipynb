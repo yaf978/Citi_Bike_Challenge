{
 "cells": [
  {
   "cell_type": "code",
   "execution_count": 1,
   "id": "75884a9d",
   "metadata": {},
   "outputs": [],
   "source": [
    "# import Libraries\n",
    "import pandas as pd\n",
    "import matplotlib.pyplot as plt\n",
    "import datetime as dt"
   ]
  },
  {
   "cell_type": "markdown",
   "id": "fcaa33eb",
   "metadata": {},
   "source": [
    "## import and explore data"
   ]
  },
  {
   "cell_type": "code",
   "execution_count": 2,
   "id": "d5eb0cd5",
   "metadata": {},
   "outputs": [],
   "source": [
    "# reading data\n",
    "df_jun_19 = pd.read_csv(\"resources/JC-201906-citibike-tripdata.csv\")\n",
    "df_jun_20 = pd.read_csv(\"resources/JC-202006-citibike-tripdata.csv\")\n",
    "df_jun_21 = pd.read_csv(\"resources/JC-202106-citibike-tripdata.csv\")\n",
    "df_jun_22 = pd.read_csv(\"resources/JC-202206-citibike-tripdata.csv\")"
   ]
  },
  {
   "cell_type": "code",
   "execution_count": 3,
   "id": "f876c6f3",
   "metadata": {},
   "outputs": [
    {
     "name": "stdout",
     "output_type": "stream",
     "text": [
      "<class 'pandas.core.frame.DataFrame'>\n",
      "RangeIndex: 39430 entries, 0 to 39429\n",
      "Data columns (total 15 columns):\n",
      " #   Column                   Non-Null Count  Dtype  \n",
      "---  ------                   --------------  -----  \n",
      " 0   tripduration             39430 non-null  int64  \n",
      " 1   starttime                39430 non-null  object \n",
      " 2   stoptime                 39430 non-null  object \n",
      " 3   start station id         39430 non-null  int64  \n",
      " 4   start station name       39430 non-null  object \n",
      " 5   start station latitude   39430 non-null  float64\n",
      " 6   start station longitude  39430 non-null  float64\n",
      " 7   end station id           39430 non-null  int64  \n",
      " 8   end station name         39430 non-null  object \n",
      " 9   end station latitude     39430 non-null  float64\n",
      " 10  end station longitude    39430 non-null  float64\n",
      " 11  bikeid                   39430 non-null  int64  \n",
      " 12  usertype                 39430 non-null  object \n",
      " 13  birth year               39430 non-null  int64  \n",
      " 14  gender                   39430 non-null  int64  \n",
      "dtypes: float64(4), int64(6), object(5)\n",
      "memory usage: 4.5+ MB\n"
     ]
    }
   ],
   "source": [
    "df_jun_19.info()"
   ]
  },
  {
   "cell_type": "code",
   "execution_count": 4,
   "id": "18bb655d",
   "metadata": {},
   "outputs": [
    {
     "name": "stdout",
     "output_type": "stream",
     "text": [
      "<class 'pandas.core.frame.DataFrame'>\n",
      "RangeIndex: 71442 entries, 0 to 71441\n",
      "Data columns (total 13 columns):\n",
      " #   Column              Non-Null Count  Dtype  \n",
      "---  ------              --------------  -----  \n",
      " 0   ride_id             71442 non-null  object \n",
      " 1   rideable_type       71442 non-null  object \n",
      " 2   started_at          71442 non-null  object \n",
      " 3   ended_at            71442 non-null  object \n",
      " 4   start_station_name  71442 non-null  object \n",
      " 5   start_station_id    71442 non-null  object \n",
      " 6   end_station_name    71208 non-null  object \n",
      " 7   end_station_id      71208 non-null  object \n",
      " 8   start_lat           71442 non-null  float64\n",
      " 9   start_lng           71442 non-null  float64\n",
      " 10  end_lat             71261 non-null  float64\n",
      " 11  end_lng             71261 non-null  float64\n",
      " 12  member_casual       71442 non-null  object \n",
      "dtypes: float64(4), object(9)\n",
      "memory usage: 7.1+ MB\n"
     ]
    }
   ],
   "source": [
    "df_jun_21.info()"
   ]
  },
  {
   "cell_type": "code",
   "execution_count": 7,
   "id": "9d9688d1",
   "metadata": {},
   "outputs": [
    {
     "data": {
      "text/plain": [
       "Index(['tripduration', 'starttime', 'stoptime', 'start station id',\n",
       "       'start station name', 'start station latitude',\n",
       "       'start station longitude', 'end station id', 'end station name',\n",
       "       'end station latitude', 'end station longitude', 'bikeid', 'usertype',\n",
       "       'birth year', 'gender'],\n",
       "      dtype='object')"
      ]
     },
     "execution_count": 7,
     "metadata": {},
     "output_type": "execute_result"
    }
   ],
   "source": [
    "df_jun_19.columns"
   ]
  },
  {
   "cell_type": "code",
   "execution_count": 8,
   "id": "8351dee4",
   "metadata": {},
   "outputs": [
    {
     "data": {
      "text/plain": [
       "Index(['ride_id', 'rideable_type', 'started_at', 'ended_at',\n",
       "       'start_station_name', 'start_station_id', 'end_station_name',\n",
       "       'end_station_id', 'start_lat', 'start_lng', 'end_lat', 'end_lng',\n",
       "       'member_casual'],\n",
       "      dtype='object')"
      ]
     },
     "execution_count": 8,
     "metadata": {},
     "output_type": "execute_result"
    }
   ],
   "source": [
    "df_jun_22.columns"
   ]
  },
  {
   "cell_type": "code",
   "execution_count": 13,
   "id": "1f78b569",
   "metadata": {},
   "outputs": [],
   "source": [
    "df_21_22=pd.concat([df_jun_21, df_jun_22], join=\"inner\",ignore_index=True)"
   ]
  },
  {
   "cell_type": "code",
   "execution_count": 14,
   "id": "eb07da44",
   "metadata": {},
   "outputs": [
    {
     "name": "stdout",
     "output_type": "stream",
     "text": [
      "<class 'pandas.core.frame.DataFrame'>\n",
      "RangeIndex: 174741 entries, 0 to 174740\n",
      "Data columns (total 13 columns):\n",
      " #   Column              Non-Null Count   Dtype  \n",
      "---  ------              --------------   -----  \n",
      " 0   ride_id             174741 non-null  object \n",
      " 1   rideable_type       174741 non-null  object \n",
      " 2   started_at          174741 non-null  object \n",
      " 3   ended_at            174741 non-null  object \n",
      " 4   start_station_name  174741 non-null  object \n",
      " 5   start_station_id    174741 non-null  object \n",
      " 6   end_station_name    174193 non-null  object \n",
      " 7   end_station_id      174193 non-null  object \n",
      " 8   start_lat           174741 non-null  float64\n",
      " 9   start_lng           174741 non-null  float64\n",
      " 10  end_lat             174265 non-null  float64\n",
      " 11  end_lng             174265 non-null  float64\n",
      " 12  member_casual       174741 non-null  object \n",
      "dtypes: float64(4), object(9)\n",
      "memory usage: 17.3+ MB\n"
     ]
    }
   ],
   "source": [
    "df_21_22.info()"
   ]
  },
  {
   "cell_type": "code",
   "execution_count": 15,
   "id": "6bc27c19",
   "metadata": {},
   "outputs": [],
   "source": [
    "df_19_20=pd.concat([df_jun_19, df_jun_20], join=\"inner\",ignore_index=True)"
   ]
  },
  {
   "cell_type": "code",
   "execution_count": 17,
   "id": "ae965e07",
   "metadata": {},
   "outputs": [
    {
     "name": "stdout",
     "output_type": "stream",
     "text": [
      "<class 'pandas.core.frame.DataFrame'>\n",
      "RangeIndex: 76351 entries, 0 to 76350\n",
      "Data columns (total 15 columns):\n",
      " #   Column                   Non-Null Count  Dtype  \n",
      "---  ------                   --------------  -----  \n",
      " 0   tripduration             76351 non-null  int64  \n",
      " 1   starttime                76351 non-null  object \n",
      " 2   stoptime                 76351 non-null  object \n",
      " 3   start station id         76351 non-null  int64  \n",
      " 4   start station name       76351 non-null  object \n",
      " 5   start station latitude   76351 non-null  float64\n",
      " 6   start station longitude  76351 non-null  float64\n",
      " 7   end station id           76351 non-null  int64  \n",
      " 8   end station name         76351 non-null  object \n",
      " 9   end station latitude     76351 non-null  float64\n",
      " 10  end station longitude    76351 non-null  float64\n",
      " 11  bikeid                   76351 non-null  int64  \n",
      " 12  usertype                 76351 non-null  object \n",
      " 13  birth year               76351 non-null  int64  \n",
      " 14  gender                   76351 non-null  int64  \n",
      "dtypes: float64(4), int64(6), object(5)\n",
      "memory usage: 8.7+ MB\n"
     ]
    }
   ],
   "source": [
    "df_19_20.info()"
   ]
  },
  {
   "cell_type": "code",
   "execution_count": 18,
   "id": "dde0d932",
   "metadata": {},
   "outputs": [
    {
     "data": {
      "text/plain": [
       "Subscriber    53486\n",
       "Customer      22865\n",
       "Name: usertype, dtype: int64"
      ]
     },
     "execution_count": 18,
     "metadata": {},
     "output_type": "execute_result"
    }
   ],
   "source": [
    "df_19_20[\"usertype\"].value_counts()"
   ]
  },
  {
   "cell_type": "code",
   "execution_count": 19,
   "id": "c539c032",
   "metadata": {},
   "outputs": [
    {
     "data": {
      "text/plain": [
       "member    103372\n",
       "casual     71369\n",
       "Name: member_casual, dtype: int64"
      ]
     },
     "execution_count": 19,
     "metadata": {},
     "output_type": "execute_result"
    }
   ],
   "source": [
    "df_21_22[\"member_casual\"].value_counts()"
   ]
  },
  {
   "cell_type": "code",
   "execution_count": 40,
   "id": "4fc33c93",
   "metadata": {},
   "outputs": [],
   "source": [
    "df1=df_19_20.copy()"
   ]
  },
  {
   "cell_type": "code",
   "execution_count": 22,
   "id": "30282d15",
   "metadata": {},
   "outputs": [],
   "source": [
    "df2=df_21_22.copy()"
   ]
  },
  {
   "cell_type": "markdown",
   "id": "79d5be0d",
   "metadata": {},
   "source": [
    "## Matching dataframes to make one clean dataframe"
   ]
  },
  {
   "cell_type": "markdown",
   "id": "eb25d7d1",
   "metadata": {},
   "source": [
    "## 1- Change date and time formats"
   ]
  },
  {
   "cell_type": "code",
   "execution_count": 29,
   "id": "c0feb9f2",
   "metadata": {},
   "outputs": [
    {
     "data": {
      "text/plain": [
       "array([ 316,  280, 2162, ..., 2788, 2702, 2649], dtype=int64)"
      ]
     },
     "execution_count": 29,
     "metadata": {},
     "output_type": "execute_result"
    }
   ],
   "source": [
    "df1[\"tripduration\"].values\n",
    "# tripduration is calulated by secondes"
   ]
  },
  {
   "cell_type": "code",
   "execution_count": 30,
   "id": "8c2a07e6",
   "metadata": {},
   "outputs": [],
   "source": [
    "# change time format and calculate trip duration for 21 and 22 years to match 19 20 data frame\n",
    "\n",
    "df2[\"started_at\"] = pd.to_datetime(df2[\"started_at\"])\n",
    "df2[\"ended_at\"] = pd.to_datetime(df2[\"ended_at\"])\n",
    "df2[\"tripduration\"] = (df2[\"ended_at\"] - df2[\"started_at\"]).dt.total_seconds()\n",
    "\n",
    "# \n",
    "# df[\"starttime\"] = pd.to_datetime(df[\"starttime\"])\n",
    "# df[\"stoptime\"] = pd.to_datetime(df[\"stoptime\"])\n",
    "\n",
    "# \n",
    "#"
   ]
  },
  {
   "cell_type": "code",
   "execution_count": 46,
   "id": "64487576",
   "metadata": {},
   "outputs": [
    {
     "data": {
      "text/plain": [
       "29453    160\n",
       "29572    155\n",
       "29618    145\n",
       "29642    143\n",
       "29203    142\n",
       "        ... \n",
       "29757      1\n",
       "31263      1\n",
       "21078      1\n",
       "15892      1\n",
       "37829      1\n",
       "Name: bikeid, Length: 1194, dtype: int64"
      ]
     },
     "execution_count": 46,
     "metadata": {},
     "output_type": "execute_result"
    }
   ],
   "source": [
    "df1[\"bikeid\"].value_counts()"
   ]
  },
  {
   "cell_type": "code",
   "execution_count": 45,
   "id": "5faf7eac",
   "metadata": {},
   "outputs": [
    {
     "data": {
      "text/plain": [
       "Index(['ride_id', 'rideable_type', 'started_at', 'ended_at',\n",
       "       'start_station_name', 'start_station_id', 'end_station_name',\n",
       "       'end_station_id', 'start_lat', 'start_lng', 'end_lat', 'end_lng',\n",
       "       'usertype', 'tripduration'],\n",
       "      dtype='object')"
      ]
     },
     "execution_count": 45,
     "metadata": {},
     "output_type": "execute_result"
    }
   ],
   "source": [
    "df2.columns"
   ]
  },
  {
   "cell_type": "code",
   "execution_count": 44,
   "id": "969c4fe8",
   "metadata": {},
   "outputs": [
    {
     "data": {
      "text/plain": [
       "Index(['tripduration', 'starttime', 'stoptime', 'start station id',\n",
       "       'start station name', 'start station latitude',\n",
       "       'start station longitude', 'end station id', 'end station name',\n",
       "       'end station latitude', 'end station longitude', 'bikeid', 'usertype',\n",
       "       'birth year', 'gender'],\n",
       "      dtype='object')"
      ]
     },
     "execution_count": 44,
     "metadata": {},
     "output_type": "execute_result"
    }
   ],
   "source": [
    "df1.columns"
   ]
  },
  {
   "cell_type": "code",
   "execution_count": 37,
   "id": "75923378",
   "metadata": {},
   "outputs": [],
   "source": [
    "df2.rename(columns = {\"member_casual\":\"usertype\"}, inplace = True)\n",
    "df2[\"usertype\"] = df2[\"usertype\"].replace(to_replace=\"member\", value=\"Subscriber\")\n",
    "df2[\"usertype\"] = df2[\"usertype\"].replace(to_replace=\"casual\", value=\"Customer\")\n"
   ]
  },
  {
   "cell_type": "code",
   "execution_count": 43,
   "id": "63063e8c",
   "metadata": {},
   "outputs": [
    {
     "data": {
      "text/plain": [
       "Subscriber    103372\n",
       "Customer       71369\n",
       "Name: usertype, dtype: int64"
      ]
     },
     "execution_count": 43,
     "metadata": {},
     "output_type": "execute_result"
    }
   ],
   "source": [
    "df2['usertype'].value_counts()"
   ]
  },
  {
   "cell_type": "code",
   "execution_count": 50,
   "id": "1e55cedc",
   "metadata": {},
   "outputs": [],
   "source": [
    "# adding columns to 21-22 to match with 19-20 data and fill values with null\n",
    "df2[\"birth year\"]=\"N/A\"\n",
    "df2[\"gender\"]=\"N/A\"\n",
    "df2[\"bikeid\"] =\"N/A\""
   ]
  },
  {
   "cell_type": "code",
   "execution_count": 54,
   "id": "5ce2f2a3",
   "metadata": {},
   "outputs": [],
   "source": [
    "# Match datafram 21-22 format and column names with 19-20 dataframe\n",
    "df_21_22_clean = pd.DataFrame({\n",
    "    'tripduration': df2['tripduration'],\n",
    "    'starttime': df2['started_at'],\n",
    "    'stoptime': df2['ended_at'],\n",
    "    'start station id': df2['start_station_id'],\n",
    "    'start station name': df2['start_station_name'],\n",
    "    'start station latitude': df2['start_lat'],\n",
    "    'start station longitude': df2['start_lng'],\n",
    "    'end station id': df2['end_station_id'],\n",
    "    'end station name': df2['end_station_name'],\n",
    "    'end station latitude': df2['end_lat'],\n",
    "    'end station longitude': df2['end_lng'],\n",
    "    'bikeid': 'N/A',\n",
    "    'usertype': df2['usertype'],\n",
    "    'birth year': 'N/A',\n",
    "    'gender': 'N/A',\n",
    "    'rideable_type': df2['rideable_type']\n",
    "    })"
   ]
  },
  {
   "cell_type": "markdown",
   "id": "8058a0c0",
   "metadata": {},
   "source": [
    "df"
   ]
  },
  {
   "cell_type": "code",
   "execution_count": 55,
   "id": "465f2241",
   "metadata": {},
   "outputs": [
    {
     "data": {
      "text/html": [
       "<div>\n",
       "<style scoped>\n",
       "    .dataframe tbody tr th:only-of-type {\n",
       "        vertical-align: middle;\n",
       "    }\n",
       "\n",
       "    .dataframe tbody tr th {\n",
       "        vertical-align: top;\n",
       "    }\n",
       "\n",
       "    .dataframe thead th {\n",
       "        text-align: right;\n",
       "    }\n",
       "</style>\n",
       "<table border=\"1\" class=\"dataframe\">\n",
       "  <thead>\n",
       "    <tr style=\"text-align: right;\">\n",
       "      <th></th>\n",
       "      <th>tripduration</th>\n",
       "      <th>starttime</th>\n",
       "      <th>stoptime</th>\n",
       "      <th>start station id</th>\n",
       "      <th>start station name</th>\n",
       "      <th>start station latitude</th>\n",
       "      <th>start station longitude</th>\n",
       "      <th>end station id</th>\n",
       "      <th>end station name</th>\n",
       "      <th>end station latitude</th>\n",
       "      <th>end station longitude</th>\n",
       "      <th>bikeid</th>\n",
       "      <th>usertype</th>\n",
       "      <th>birth year</th>\n",
       "      <th>gender</th>\n",
       "      <th>rideable_type</th>\n",
       "    </tr>\n",
       "  </thead>\n",
       "  <tbody>\n",
       "    <tr>\n",
       "      <th>0</th>\n",
       "      <td>11443.0</td>\n",
       "      <td>2021-06-21 07:38:42</td>\n",
       "      <td>2021-06-21 10:49:25</td>\n",
       "      <td>JC076</td>\n",
       "      <td>Dixon Mills</td>\n",
       "      <td>40.721630</td>\n",
       "      <td>-74.049968</td>\n",
       "      <td>NaN</td>\n",
       "      <td>NaN</td>\n",
       "      <td>NaN</td>\n",
       "      <td>NaN</td>\n",
       "      <td>N/A</td>\n",
       "      <td>Subscriber</td>\n",
       "      <td>N/A</td>\n",
       "      <td>N/A</td>\n",
       "      <td>classic_bike</td>\n",
       "    </tr>\n",
       "    <tr>\n",
       "      <th>1</th>\n",
       "      <td>610.0</td>\n",
       "      <td>2021-06-12 10:25:01</td>\n",
       "      <td>2021-06-12 10:35:11</td>\n",
       "      <td>JC076</td>\n",
       "      <td>Dixon Mills</td>\n",
       "      <td>40.721630</td>\n",
       "      <td>-74.049967</td>\n",
       "      <td>JC103</td>\n",
       "      <td>Journal Square</td>\n",
       "      <td>40.733670</td>\n",
       "      <td>-74.062500</td>\n",
       "      <td>N/A</td>\n",
       "      <td>Subscriber</td>\n",
       "      <td>N/A</td>\n",
       "      <td>N/A</td>\n",
       "      <td>docked_bike</td>\n",
       "    </tr>\n",
       "    <tr>\n",
       "      <th>2</th>\n",
       "      <td>380.0</td>\n",
       "      <td>2021-06-07 14:52:05</td>\n",
       "      <td>2021-06-07 14:58:25</td>\n",
       "      <td>HB502</td>\n",
       "      <td>11 St &amp; Washington St</td>\n",
       "      <td>40.749984</td>\n",
       "      <td>-74.027150</td>\n",
       "      <td>HB101</td>\n",
       "      <td>Hoboken Terminal - Hudson St &amp; Hudson Pl</td>\n",
       "      <td>40.735938</td>\n",
       "      <td>-74.030305</td>\n",
       "      <td>N/A</td>\n",
       "      <td>Subscriber</td>\n",
       "      <td>N/A</td>\n",
       "      <td>N/A</td>\n",
       "      <td>docked_bike</td>\n",
       "    </tr>\n",
       "    <tr>\n",
       "      <th>3</th>\n",
       "      <td>298.0</td>\n",
       "      <td>2021-06-07 08:29:19</td>\n",
       "      <td>2021-06-07 08:34:17</td>\n",
       "      <td>HB603</td>\n",
       "      <td>8 St &amp; Washington St</td>\n",
       "      <td>40.745983</td>\n",
       "      <td>-74.028199</td>\n",
       "      <td>HB101</td>\n",
       "      <td>Hoboken Terminal - Hudson St &amp; Hudson Pl</td>\n",
       "      <td>40.735938</td>\n",
       "      <td>-74.030305</td>\n",
       "      <td>N/A</td>\n",
       "      <td>Customer</td>\n",
       "      <td>N/A</td>\n",
       "      <td>N/A</td>\n",
       "      <td>docked_bike</td>\n",
       "    </tr>\n",
       "    <tr>\n",
       "      <th>4</th>\n",
       "      <td>599.0</td>\n",
       "      <td>2021-06-18 14:16:27</td>\n",
       "      <td>2021-06-18 14:26:26</td>\n",
       "      <td>HB502</td>\n",
       "      <td>11 St &amp; Washington St</td>\n",
       "      <td>40.749984</td>\n",
       "      <td>-74.027150</td>\n",
       "      <td>HB501</td>\n",
       "      <td>Columbus Park - Clinton St &amp; 9 St</td>\n",
       "      <td>40.748161</td>\n",
       "      <td>-74.032453</td>\n",
       "      <td>N/A</td>\n",
       "      <td>Subscriber</td>\n",
       "      <td>N/A</td>\n",
       "      <td>N/A</td>\n",
       "      <td>docked_bike</td>\n",
       "    </tr>\n",
       "    <tr>\n",
       "      <th>...</th>\n",
       "      <td>...</td>\n",
       "      <td>...</td>\n",
       "      <td>...</td>\n",
       "      <td>...</td>\n",
       "      <td>...</td>\n",
       "      <td>...</td>\n",
       "      <td>...</td>\n",
       "      <td>...</td>\n",
       "      <td>...</td>\n",
       "      <td>...</td>\n",
       "      <td>...</td>\n",
       "      <td>...</td>\n",
       "      <td>...</td>\n",
       "      <td>...</td>\n",
       "      <td>...</td>\n",
       "      <td>...</td>\n",
       "    </tr>\n",
       "    <tr>\n",
       "      <th>174736</th>\n",
       "      <td>1812.0</td>\n",
       "      <td>2022-06-17 16:03:36</td>\n",
       "      <td>2022-06-17 16:33:48</td>\n",
       "      <td>HB103</td>\n",
       "      <td>South Waterfront Walkway - Sinatra Dr &amp; 1 St</td>\n",
       "      <td>40.736982</td>\n",
       "      <td>-74.027781</td>\n",
       "      <td>HB502</td>\n",
       "      <td>11 St &amp; Washington St</td>\n",
       "      <td>40.749985</td>\n",
       "      <td>-74.027150</td>\n",
       "      <td>N/A</td>\n",
       "      <td>Customer</td>\n",
       "      <td>N/A</td>\n",
       "      <td>N/A</td>\n",
       "      <td>classic_bike</td>\n",
       "    </tr>\n",
       "    <tr>\n",
       "      <th>174737</th>\n",
       "      <td>314.0</td>\n",
       "      <td>2022-06-25 14:14:26</td>\n",
       "      <td>2022-06-25 14:19:40</td>\n",
       "      <td>HB103</td>\n",
       "      <td>South Waterfront Walkway - Sinatra Dr &amp; 1 St</td>\n",
       "      <td>40.736982</td>\n",
       "      <td>-74.027781</td>\n",
       "      <td>HB603</td>\n",
       "      <td>8 St &amp; Washington St</td>\n",
       "      <td>40.745984</td>\n",
       "      <td>-74.028199</td>\n",
       "      <td>N/A</td>\n",
       "      <td>Subscriber</td>\n",
       "      <td>N/A</td>\n",
       "      <td>N/A</td>\n",
       "      <td>classic_bike</td>\n",
       "    </tr>\n",
       "    <tr>\n",
       "      <th>174738</th>\n",
       "      <td>1109.0</td>\n",
       "      <td>2022-06-04 08:57:04</td>\n",
       "      <td>2022-06-04 09:15:33</td>\n",
       "      <td>JC027</td>\n",
       "      <td>Jersey &amp; 6th St</td>\n",
       "      <td>40.725289</td>\n",
       "      <td>-74.045572</td>\n",
       "      <td>HB502</td>\n",
       "      <td>11 St &amp; Washington St</td>\n",
       "      <td>40.749985</td>\n",
       "      <td>-74.027150</td>\n",
       "      <td>N/A</td>\n",
       "      <td>Customer</td>\n",
       "      <td>N/A</td>\n",
       "      <td>N/A</td>\n",
       "      <td>electric_bike</td>\n",
       "    </tr>\n",
       "    <tr>\n",
       "      <th>174739</th>\n",
       "      <td>632.0</td>\n",
       "      <td>2022-06-17 06:11:05</td>\n",
       "      <td>2022-06-17 06:21:37</td>\n",
       "      <td>HB103</td>\n",
       "      <td>South Waterfront Walkway - Sinatra Dr &amp; 1 St</td>\n",
       "      <td>40.736982</td>\n",
       "      <td>-74.027781</td>\n",
       "      <td>HB502</td>\n",
       "      <td>11 St &amp; Washington St</td>\n",
       "      <td>40.749985</td>\n",
       "      <td>-74.027150</td>\n",
       "      <td>N/A</td>\n",
       "      <td>Subscriber</td>\n",
       "      <td>N/A</td>\n",
       "      <td>N/A</td>\n",
       "      <td>classic_bike</td>\n",
       "    </tr>\n",
       "    <tr>\n",
       "      <th>174740</th>\n",
       "      <td>305.0</td>\n",
       "      <td>2022-06-02 18:15:17</td>\n",
       "      <td>2022-06-02 18:20:22</td>\n",
       "      <td>HB103</td>\n",
       "      <td>South Waterfront Walkway - Sinatra Dr &amp; 1 St</td>\n",
       "      <td>40.736982</td>\n",
       "      <td>-74.027781</td>\n",
       "      <td>HB502</td>\n",
       "      <td>11 St &amp; Washington St</td>\n",
       "      <td>40.749985</td>\n",
       "      <td>-74.027150</td>\n",
       "      <td>N/A</td>\n",
       "      <td>Subscriber</td>\n",
       "      <td>N/A</td>\n",
       "      <td>N/A</td>\n",
       "      <td>electric_bike</td>\n",
       "    </tr>\n",
       "  </tbody>\n",
       "</table>\n",
       "<p>174741 rows × 16 columns</p>\n",
       "</div>"
      ],
      "text/plain": [
       "        tripduration           starttime            stoptime start station id  \\\n",
       "0            11443.0 2021-06-21 07:38:42 2021-06-21 10:49:25            JC076   \n",
       "1              610.0 2021-06-12 10:25:01 2021-06-12 10:35:11            JC076   \n",
       "2              380.0 2021-06-07 14:52:05 2021-06-07 14:58:25            HB502   \n",
       "3              298.0 2021-06-07 08:29:19 2021-06-07 08:34:17            HB603   \n",
       "4              599.0 2021-06-18 14:16:27 2021-06-18 14:26:26            HB502   \n",
       "...              ...                 ...                 ...              ...   \n",
       "174736        1812.0 2022-06-17 16:03:36 2022-06-17 16:33:48            HB103   \n",
       "174737         314.0 2022-06-25 14:14:26 2022-06-25 14:19:40            HB103   \n",
       "174738        1109.0 2022-06-04 08:57:04 2022-06-04 09:15:33            JC027   \n",
       "174739         632.0 2022-06-17 06:11:05 2022-06-17 06:21:37            HB103   \n",
       "174740         305.0 2022-06-02 18:15:17 2022-06-02 18:20:22            HB103   \n",
       "\n",
       "                                  start station name  start station latitude  \\\n",
       "0                                        Dixon Mills               40.721630   \n",
       "1                                        Dixon Mills               40.721630   \n",
       "2                              11 St & Washington St               40.749984   \n",
       "3                               8 St & Washington St               40.745983   \n",
       "4                              11 St & Washington St               40.749984   \n",
       "...                                              ...                     ...   \n",
       "174736  South Waterfront Walkway - Sinatra Dr & 1 St               40.736982   \n",
       "174737  South Waterfront Walkway - Sinatra Dr & 1 St               40.736982   \n",
       "174738                               Jersey & 6th St               40.725289   \n",
       "174739  South Waterfront Walkway - Sinatra Dr & 1 St               40.736982   \n",
       "174740  South Waterfront Walkway - Sinatra Dr & 1 St               40.736982   \n",
       "\n",
       "        start station longitude end station id  \\\n",
       "0                    -74.049968            NaN   \n",
       "1                    -74.049967          JC103   \n",
       "2                    -74.027150          HB101   \n",
       "3                    -74.028199          HB101   \n",
       "4                    -74.027150          HB501   \n",
       "...                         ...            ...   \n",
       "174736               -74.027781          HB502   \n",
       "174737               -74.027781          HB603   \n",
       "174738               -74.045572          HB502   \n",
       "174739               -74.027781          HB502   \n",
       "174740               -74.027781          HB502   \n",
       "\n",
       "                                end station name  end station latitude  \\\n",
       "0                                            NaN                   NaN   \n",
       "1                                 Journal Square             40.733670   \n",
       "2       Hoboken Terminal - Hudson St & Hudson Pl             40.735938   \n",
       "3       Hoboken Terminal - Hudson St & Hudson Pl             40.735938   \n",
       "4              Columbus Park - Clinton St & 9 St             40.748161   \n",
       "...                                          ...                   ...   \n",
       "174736                     11 St & Washington St             40.749985   \n",
       "174737                      8 St & Washington St             40.745984   \n",
       "174738                     11 St & Washington St             40.749985   \n",
       "174739                     11 St & Washington St             40.749985   \n",
       "174740                     11 St & Washington St             40.749985   \n",
       "\n",
       "        end station longitude bikeid    usertype birth year gender  \\\n",
       "0                         NaN    N/A  Subscriber        N/A    N/A   \n",
       "1                  -74.062500    N/A  Subscriber        N/A    N/A   \n",
       "2                  -74.030305    N/A  Subscriber        N/A    N/A   \n",
       "3                  -74.030305    N/A    Customer        N/A    N/A   \n",
       "4                  -74.032453    N/A  Subscriber        N/A    N/A   \n",
       "...                       ...    ...         ...        ...    ...   \n",
       "174736             -74.027150    N/A    Customer        N/A    N/A   \n",
       "174737             -74.028199    N/A  Subscriber        N/A    N/A   \n",
       "174738             -74.027150    N/A    Customer        N/A    N/A   \n",
       "174739             -74.027150    N/A  Subscriber        N/A    N/A   \n",
       "174740             -74.027150    N/A  Subscriber        N/A    N/A   \n",
       "\n",
       "        rideable_type  \n",
       "0        classic_bike  \n",
       "1         docked_bike  \n",
       "2         docked_bike  \n",
       "3         docked_bike  \n",
       "4         docked_bike  \n",
       "...               ...  \n",
       "174736   classic_bike  \n",
       "174737   classic_bike  \n",
       "174738  electric_bike  \n",
       "174739   classic_bike  \n",
       "174740  electric_bike  \n",
       "\n",
       "[174741 rows x 16 columns]"
      ]
     },
     "execution_count": 55,
     "metadata": {},
     "output_type": "execute_result"
    }
   ],
   "source": [
    "df_21_22_clean"
   ]
  },
  {
   "cell_type": "code",
   "execution_count": 63,
   "id": "428d3639",
   "metadata": {},
   "outputs": [],
   "source": [
    "df_clean= pd.concat([df_21_22_clean, df_19_20], join=\"inner\",ignore_index=True)"
   ]
  },
  {
   "cell_type": "code",
   "execution_count": null,
   "id": "5e085b48",
   "metadata": {},
   "outputs": [],
   "source": []
  },
  {
   "cell_type": "markdown",
   "id": "d7c1c8f9",
   "metadata": {},
   "source": [
    "## "
   ]
  },
  {
   "cell_type": "code",
   "execution_count": 64,
   "id": "b18c6e8d",
   "metadata": {},
   "outputs": [],
   "source": [
    "# change and split time to hours and month \n",
    "# Convert start/end times to datetime\n",
    "df_clean['starttime'] = pd.to_datetime(df_clean['starttime'])\n",
    "df_clean['stoptime'] = pd.to_datetime(df_clean['stoptime'])\n"
   ]
  },
  {
   "cell_type": "code",
   "execution_count": 65,
   "id": "9f1e927f",
   "metadata": {},
   "outputs": [
    {
     "data": {
      "text/html": [
       "<div>\n",
       "<style scoped>\n",
       "    .dataframe tbody tr th:only-of-type {\n",
       "        vertical-align: middle;\n",
       "    }\n",
       "\n",
       "    .dataframe tbody tr th {\n",
       "        vertical-align: top;\n",
       "    }\n",
       "\n",
       "    .dataframe thead th {\n",
       "        text-align: right;\n",
       "    }\n",
       "</style>\n",
       "<table border=\"1\" class=\"dataframe\">\n",
       "  <thead>\n",
       "    <tr style=\"text-align: right;\">\n",
       "      <th></th>\n",
       "      <th>tripduration</th>\n",
       "      <th>starttime</th>\n",
       "      <th>stoptime</th>\n",
       "      <th>start station id</th>\n",
       "      <th>start station name</th>\n",
       "      <th>start station latitude</th>\n",
       "      <th>start station longitude</th>\n",
       "      <th>end station id</th>\n",
       "      <th>end station name</th>\n",
       "      <th>end station latitude</th>\n",
       "      <th>end station longitude</th>\n",
       "      <th>bikeid</th>\n",
       "      <th>usertype</th>\n",
       "      <th>birth year</th>\n",
       "      <th>gender</th>\n",
       "    </tr>\n",
       "  </thead>\n",
       "  <tbody>\n",
       "    <tr>\n",
       "      <th>0</th>\n",
       "      <td>11443.0</td>\n",
       "      <td>2021-06-21 07:38:42.000</td>\n",
       "      <td>2021-06-21 10:49:25.000</td>\n",
       "      <td>JC076</td>\n",
       "      <td>Dixon Mills</td>\n",
       "      <td>40.721630</td>\n",
       "      <td>-74.049968</td>\n",
       "      <td>NaN</td>\n",
       "      <td>NaN</td>\n",
       "      <td>NaN</td>\n",
       "      <td>NaN</td>\n",
       "      <td>N/A</td>\n",
       "      <td>Subscriber</td>\n",
       "      <td>N/A</td>\n",
       "      <td>N/A</td>\n",
       "    </tr>\n",
       "    <tr>\n",
       "      <th>1</th>\n",
       "      <td>610.0</td>\n",
       "      <td>2021-06-12 10:25:01.000</td>\n",
       "      <td>2021-06-12 10:35:11.000</td>\n",
       "      <td>JC076</td>\n",
       "      <td>Dixon Mills</td>\n",
       "      <td>40.721630</td>\n",
       "      <td>-74.049967</td>\n",
       "      <td>JC103</td>\n",
       "      <td>Journal Square</td>\n",
       "      <td>40.733670</td>\n",
       "      <td>-74.062500</td>\n",
       "      <td>N/A</td>\n",
       "      <td>Subscriber</td>\n",
       "      <td>N/A</td>\n",
       "      <td>N/A</td>\n",
       "    </tr>\n",
       "    <tr>\n",
       "      <th>2</th>\n",
       "      <td>380.0</td>\n",
       "      <td>2021-06-07 14:52:05.000</td>\n",
       "      <td>2021-06-07 14:58:25.000</td>\n",
       "      <td>HB502</td>\n",
       "      <td>11 St &amp; Washington St</td>\n",
       "      <td>40.749984</td>\n",
       "      <td>-74.027150</td>\n",
       "      <td>HB101</td>\n",
       "      <td>Hoboken Terminal - Hudson St &amp; Hudson Pl</td>\n",
       "      <td>40.735938</td>\n",
       "      <td>-74.030305</td>\n",
       "      <td>N/A</td>\n",
       "      <td>Subscriber</td>\n",
       "      <td>N/A</td>\n",
       "      <td>N/A</td>\n",
       "    </tr>\n",
       "    <tr>\n",
       "      <th>3</th>\n",
       "      <td>298.0</td>\n",
       "      <td>2021-06-07 08:29:19.000</td>\n",
       "      <td>2021-06-07 08:34:17.000</td>\n",
       "      <td>HB603</td>\n",
       "      <td>8 St &amp; Washington St</td>\n",
       "      <td>40.745983</td>\n",
       "      <td>-74.028199</td>\n",
       "      <td>HB101</td>\n",
       "      <td>Hoboken Terminal - Hudson St &amp; Hudson Pl</td>\n",
       "      <td>40.735938</td>\n",
       "      <td>-74.030305</td>\n",
       "      <td>N/A</td>\n",
       "      <td>Customer</td>\n",
       "      <td>N/A</td>\n",
       "      <td>N/A</td>\n",
       "    </tr>\n",
       "    <tr>\n",
       "      <th>4</th>\n",
       "      <td>599.0</td>\n",
       "      <td>2021-06-18 14:16:27.000</td>\n",
       "      <td>2021-06-18 14:26:26.000</td>\n",
       "      <td>HB502</td>\n",
       "      <td>11 St &amp; Washington St</td>\n",
       "      <td>40.749984</td>\n",
       "      <td>-74.027150</td>\n",
       "      <td>HB501</td>\n",
       "      <td>Columbus Park - Clinton St &amp; 9 St</td>\n",
       "      <td>40.748161</td>\n",
       "      <td>-74.032453</td>\n",
       "      <td>N/A</td>\n",
       "      <td>Subscriber</td>\n",
       "      <td>N/A</td>\n",
       "      <td>N/A</td>\n",
       "    </tr>\n",
       "    <tr>\n",
       "      <th>...</th>\n",
       "      <td>...</td>\n",
       "      <td>...</td>\n",
       "      <td>...</td>\n",
       "      <td>...</td>\n",
       "      <td>...</td>\n",
       "      <td>...</td>\n",
       "      <td>...</td>\n",
       "      <td>...</td>\n",
       "      <td>...</td>\n",
       "      <td>...</td>\n",
       "      <td>...</td>\n",
       "      <td>...</td>\n",
       "      <td>...</td>\n",
       "      <td>...</td>\n",
       "      <td>...</td>\n",
       "    </tr>\n",
       "    <tr>\n",
       "      <th>251087</th>\n",
       "      <td>2828.0</td>\n",
       "      <td>2020-06-30 23:53:19.738</td>\n",
       "      <td>2020-07-01 00:40:28.576</td>\n",
       "      <td>3199</td>\n",
       "      <td>Newport Pkwy</td>\n",
       "      <td>40.728745</td>\n",
       "      <td>-74.032108</td>\n",
       "      <td>3199</td>\n",
       "      <td>Newport Pkwy</td>\n",
       "      <td>40.728745</td>\n",
       "      <td>-74.032108</td>\n",
       "      <td>18351</td>\n",
       "      <td>Customer</td>\n",
       "      <td>1969</td>\n",
       "      <td>0</td>\n",
       "    </tr>\n",
       "    <tr>\n",
       "      <th>251088</th>\n",
       "      <td>2729.0</td>\n",
       "      <td>2020-06-30 23:54:44.010</td>\n",
       "      <td>2020-07-01 00:40:13.647</td>\n",
       "      <td>3199</td>\n",
       "      <td>Newport Pkwy</td>\n",
       "      <td>40.728745</td>\n",
       "      <td>-74.032108</td>\n",
       "      <td>3199</td>\n",
       "      <td>Newport Pkwy</td>\n",
       "      <td>40.728745</td>\n",
       "      <td>-74.032108</td>\n",
       "      <td>44401</td>\n",
       "      <td>Customer</td>\n",
       "      <td>1969</td>\n",
       "      <td>0</td>\n",
       "    </tr>\n",
       "    <tr>\n",
       "      <th>251089</th>\n",
       "      <td>2788.0</td>\n",
       "      <td>2020-06-30 23:54:52.192</td>\n",
       "      <td>2020-07-01 00:41:20.650</td>\n",
       "      <td>3199</td>\n",
       "      <td>Newport Pkwy</td>\n",
       "      <td>40.728745</td>\n",
       "      <td>-74.032108</td>\n",
       "      <td>3199</td>\n",
       "      <td>Newport Pkwy</td>\n",
       "      <td>40.728745</td>\n",
       "      <td>-74.032108</td>\n",
       "      <td>42334</td>\n",
       "      <td>Customer</td>\n",
       "      <td>1969</td>\n",
       "      <td>0</td>\n",
       "    </tr>\n",
       "    <tr>\n",
       "      <th>251090</th>\n",
       "      <td>2702.0</td>\n",
       "      <td>2020-06-30 23:56:14.665</td>\n",
       "      <td>2020-07-01 00:41:16.782</td>\n",
       "      <td>3199</td>\n",
       "      <td>Newport Pkwy</td>\n",
       "      <td>40.728745</td>\n",
       "      <td>-74.032108</td>\n",
       "      <td>3199</td>\n",
       "      <td>Newport Pkwy</td>\n",
       "      <td>40.728745</td>\n",
       "      <td>-74.032108</td>\n",
       "      <td>42463</td>\n",
       "      <td>Customer</td>\n",
       "      <td>1969</td>\n",
       "      <td>0</td>\n",
       "    </tr>\n",
       "    <tr>\n",
       "      <th>251091</th>\n",
       "      <td>2649.0</td>\n",
       "      <td>2020-06-30 23:57:46.149</td>\n",
       "      <td>2020-07-01 00:41:55.506</td>\n",
       "      <td>3199</td>\n",
       "      <td>Newport Pkwy</td>\n",
       "      <td>40.728745</td>\n",
       "      <td>-74.032108</td>\n",
       "      <td>3199</td>\n",
       "      <td>Newport Pkwy</td>\n",
       "      <td>40.728745</td>\n",
       "      <td>-74.032108</td>\n",
       "      <td>42468</td>\n",
       "      <td>Customer</td>\n",
       "      <td>1998</td>\n",
       "      <td>2</td>\n",
       "    </tr>\n",
       "  </tbody>\n",
       "</table>\n",
       "<p>251092 rows × 15 columns</p>\n",
       "</div>"
      ],
      "text/plain": [
       "        tripduration               starttime                stoptime  \\\n",
       "0            11443.0 2021-06-21 07:38:42.000 2021-06-21 10:49:25.000   \n",
       "1              610.0 2021-06-12 10:25:01.000 2021-06-12 10:35:11.000   \n",
       "2              380.0 2021-06-07 14:52:05.000 2021-06-07 14:58:25.000   \n",
       "3              298.0 2021-06-07 08:29:19.000 2021-06-07 08:34:17.000   \n",
       "4              599.0 2021-06-18 14:16:27.000 2021-06-18 14:26:26.000   \n",
       "...              ...                     ...                     ...   \n",
       "251087        2828.0 2020-06-30 23:53:19.738 2020-07-01 00:40:28.576   \n",
       "251088        2729.0 2020-06-30 23:54:44.010 2020-07-01 00:40:13.647   \n",
       "251089        2788.0 2020-06-30 23:54:52.192 2020-07-01 00:41:20.650   \n",
       "251090        2702.0 2020-06-30 23:56:14.665 2020-07-01 00:41:16.782   \n",
       "251091        2649.0 2020-06-30 23:57:46.149 2020-07-01 00:41:55.506   \n",
       "\n",
       "       start station id     start station name  start station latitude  \\\n",
       "0                 JC076            Dixon Mills               40.721630   \n",
       "1                 JC076            Dixon Mills               40.721630   \n",
       "2                 HB502  11 St & Washington St               40.749984   \n",
       "3                 HB603   8 St & Washington St               40.745983   \n",
       "4                 HB502  11 St & Washington St               40.749984   \n",
       "...                 ...                    ...                     ...   \n",
       "251087             3199           Newport Pkwy               40.728745   \n",
       "251088             3199           Newport Pkwy               40.728745   \n",
       "251089             3199           Newport Pkwy               40.728745   \n",
       "251090             3199           Newport Pkwy               40.728745   \n",
       "251091             3199           Newport Pkwy               40.728745   \n",
       "\n",
       "        start station longitude end station id  \\\n",
       "0                    -74.049968            NaN   \n",
       "1                    -74.049967          JC103   \n",
       "2                    -74.027150          HB101   \n",
       "3                    -74.028199          HB101   \n",
       "4                    -74.027150          HB501   \n",
       "...                         ...            ...   \n",
       "251087               -74.032108           3199   \n",
       "251088               -74.032108           3199   \n",
       "251089               -74.032108           3199   \n",
       "251090               -74.032108           3199   \n",
       "251091               -74.032108           3199   \n",
       "\n",
       "                                end station name  end station latitude  \\\n",
       "0                                            NaN                   NaN   \n",
       "1                                 Journal Square             40.733670   \n",
       "2       Hoboken Terminal - Hudson St & Hudson Pl             40.735938   \n",
       "3       Hoboken Terminal - Hudson St & Hudson Pl             40.735938   \n",
       "4              Columbus Park - Clinton St & 9 St             40.748161   \n",
       "...                                          ...                   ...   \n",
       "251087                              Newport Pkwy             40.728745   \n",
       "251088                              Newport Pkwy             40.728745   \n",
       "251089                              Newport Pkwy             40.728745   \n",
       "251090                              Newport Pkwy             40.728745   \n",
       "251091                              Newport Pkwy             40.728745   \n",
       "\n",
       "        end station longitude bikeid    usertype birth year gender  \n",
       "0                         NaN    N/A  Subscriber        N/A    N/A  \n",
       "1                  -74.062500    N/A  Subscriber        N/A    N/A  \n",
       "2                  -74.030305    N/A  Subscriber        N/A    N/A  \n",
       "3                  -74.030305    N/A    Customer        N/A    N/A  \n",
       "4                  -74.032453    N/A  Subscriber        N/A    N/A  \n",
       "...                       ...    ...         ...        ...    ...  \n",
       "251087             -74.032108  18351    Customer       1969      0  \n",
       "251088             -74.032108  44401    Customer       1969      0  \n",
       "251089             -74.032108  42334    Customer       1969      0  \n",
       "251090             -74.032108  42463    Customer       1969      0  \n",
       "251091             -74.032108  42468    Customer       1998      2  \n",
       "\n",
       "[251092 rows x 15 columns]"
      ]
     },
     "execution_count": 65,
     "metadata": {},
     "output_type": "execute_result"
    }
   ],
   "source": [
    "df_clean"
   ]
  },
  {
   "cell_type": "code",
   "execution_count": null,
   "id": "a38add6f",
   "metadata": {},
   "outputs": [],
   "source": [
    "# export to csv file\n",
    "cl"
   ]
  },
  {
   "cell_type": "code",
   "execution_count": null,
   "id": "ef2cb035",
   "metadata": {},
   "outputs": [],
   "source": []
  },
  {
   "cell_type": "code",
   "execution_count": null,
   "id": "54054042",
   "metadata": {},
   "outputs": [],
   "source": []
  }
 ],
 "metadata": {
  "kernelspec": {
   "display_name": "Python 3 (ipykernel)",
   "language": "python",
   "name": "python3"
  },
  "language_info": {
   "codemirror_mode": {
    "name": "ipython",
    "version": 3
   },
   "file_extension": ".py",
   "mimetype": "text/x-python",
   "name": "python",
   "nbconvert_exporter": "python",
   "pygments_lexer": "ipython3",
   "version": "3.8.13"
  }
 },
 "nbformat": 4,
 "nbformat_minor": 5
}
