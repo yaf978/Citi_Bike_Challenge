{
 "cells": [
  {
   "cell_type": "code",
   "execution_count": 1,
   "id": "75884a9d",
   "metadata": {},
   "outputs": [],
   "source": [
    "import pandas as pd\n",
    "import matplotlib.pyplot as plt\n",
    "import datetime as dt"
   ]
  },
  {
   "cell_type": "code",
   "execution_count": 2,
   "id": "d5eb0cd5",
   "metadata": {},
   "outputs": [],
   "source": [
    "df_jun_19 = pd.read_csv(\"resources/JC-201906-citibike-tripdata.csv\")\n",
    "df_jun_20 = pd.read_csv(\"resources/JC-202006-citibike-tripdata.csv\")\n",
    "df_jun_21 = pd.read_csv(\"resources/JC-202106-citibike-tripdata.csv\")\n",
    "df_jun_22 = pd.read_csv(\"resources/JC-202206-citibike-tripdata.csv\")"
   ]
  },
  {
   "cell_type": "code",
   "execution_count": 3,
   "id": "f876c6f3",
   "metadata": {},
   "outputs": [
    {
     "name": "stdout",
     "output_type": "stream",
     "text": [
      "<class 'pandas.core.frame.DataFrame'>\n",
      "RangeIndex: 39430 entries, 0 to 39429\n",
      "Data columns (total 15 columns):\n",
      " #   Column                   Non-Null Count  Dtype  \n",
      "---  ------                   --------------  -----  \n",
      " 0   tripduration             39430 non-null  int64  \n",
      " 1   starttime                39430 non-null  object \n",
      " 2   stoptime                 39430 non-null  object \n",
      " 3   start station id         39430 non-null  int64  \n",
      " 4   start station name       39430 non-null  object \n",
      " 5   start station latitude   39430 non-null  float64\n",
      " 6   start station longitude  39430 non-null  float64\n",
      " 7   end station id           39430 non-null  int64  \n",
      " 8   end station name         39430 non-null  object \n",
      " 9   end station latitude     39430 non-null  float64\n",
      " 10  end station longitude    39430 non-null  float64\n",
      " 11  bikeid                   39430 non-null  int64  \n",
      " 12  usertype                 39430 non-null  object \n",
      " 13  birth year               39430 non-null  int64  \n",
      " 14  gender                   39430 non-null  int64  \n",
      "dtypes: float64(4), int64(6), object(5)\n",
      "memory usage: 4.5+ MB\n"
     ]
    }
   ],
   "source": [
    "df_jun_19.info()"
   ]
  },
  {
   "cell_type": "code",
   "execution_count": 4,
   "id": "18bb655d",
   "metadata": {},
   "outputs": [
    {
     "name": "stdout",
     "output_type": "stream",
     "text": [
      "<class 'pandas.core.frame.DataFrame'>\n",
      "RangeIndex: 71442 entries, 0 to 71441\n",
      "Data columns (total 13 columns):\n",
      " #   Column              Non-Null Count  Dtype  \n",
      "---  ------              --------------  -----  \n",
      " 0   ride_id             71442 non-null  object \n",
      " 1   rideable_type       71442 non-null  object \n",
      " 2   started_at          71442 non-null  object \n",
      " 3   ended_at            71442 non-null  object \n",
      " 4   start_station_name  71442 non-null  object \n",
      " 5   start_station_id    71442 non-null  object \n",
      " 6   end_station_name    71208 non-null  object \n",
      " 7   end_station_id      71208 non-null  object \n",
      " 8   start_lat           71442 non-null  float64\n",
      " 9   start_lng           71442 non-null  float64\n",
      " 10  end_lat             71261 non-null  float64\n",
      " 11  end_lng             71261 non-null  float64\n",
      " 12  member_casual       71442 non-null  object \n",
      "dtypes: float64(4), object(9)\n",
      "memory usage: 7.1+ MB\n"
     ]
    }
   ],
   "source": [
    "df_jun_21.info()"
   ]
  },
  {
   "cell_type": "code",
   "execution_count": 6,
   "id": "a231a07f",
   "metadata": {},
   "outputs": [
    {
     "name": "stdout",
     "output_type": "stream",
     "text": [
      "<class 'pandas.core.frame.DataFrame'>\n",
      "RangeIndex: 103299 entries, 0 to 103298\n",
      "Data columns (total 13 columns):\n",
      " #   Column              Non-Null Count   Dtype  \n",
      "---  ------              --------------   -----  \n",
      " 0   ride_id             103299 non-null  object \n",
      " 1   rideable_type       103299 non-null  object \n",
      " 2   started_at          103299 non-null  object \n",
      " 3   ended_at            103299 non-null  object \n",
      " 4   start_station_name  103299 non-null  object \n",
      " 5   start_station_id    103299 non-null  object \n",
      " 6   end_station_name    102985 non-null  object \n",
      " 7   end_station_id      102985 non-null  object \n",
      " 8   start_lat           103299 non-null  float64\n",
      " 9   start_lng           103299 non-null  float64\n",
      " 10  end_lat             103004 non-null  float64\n",
      " 11  end_lng             103004 non-null  float64\n",
      " 12  member_casual       103299 non-null  object \n",
      "dtypes: float64(4), object(9)\n",
      "memory usage: 10.2+ MB\n"
     ]
    }
   ],
   "source": [
    "df_jun_22.info()"
   ]
  },
  {
   "cell_type": "code",
   "execution_count": 7,
   "id": "e23d257f",
   "metadata": {},
   "outputs": [
    {
     "name": "stdout",
     "output_type": "stream",
     "text": [
      "<class 'pandas.core.frame.DataFrame'>\n",
      "RangeIndex: 36921 entries, 0 to 36920\n",
      "Data columns (total 15 columns):\n",
      " #   Column                   Non-Null Count  Dtype  \n",
      "---  ------                   --------------  -----  \n",
      " 0   tripduration             36921 non-null  int64  \n",
      " 1   starttime                36921 non-null  object \n",
      " 2   stoptime                 36921 non-null  object \n",
      " 3   start station id         36921 non-null  int64  \n",
      " 4   start station name       36921 non-null  object \n",
      " 5   start station latitude   36921 non-null  float64\n",
      " 6   start station longitude  36921 non-null  float64\n",
      " 7   end station id           36921 non-null  int64  \n",
      " 8   end station name         36921 non-null  object \n",
      " 9   end station latitude     36921 non-null  float64\n",
      " 10  end station longitude    36921 non-null  float64\n",
      " 11  bikeid                   36921 non-null  int64  \n",
      " 12  usertype                 36921 non-null  object \n",
      " 13  birth year               36921 non-null  int64  \n",
      " 14  gender                   36921 non-null  int64  \n",
      "dtypes: float64(4), int64(6), object(5)\n",
      "memory usage: 4.2+ MB\n"
     ]
    }
   ],
   "source": [
    "df_jun_20.info()"
   ]
  },
  {
   "cell_type": "code",
   "execution_count": 10,
   "id": "9d9688d1",
   "metadata": {},
   "outputs": [
    {
     "data": {
      "text/plain": [
       "Index(['tripduration', 'starttime', 'stoptime', 'start station id',\n",
       "       'start station name', 'start station latitude',\n",
       "       'start station longitude', 'end station id', 'end station name',\n",
       "       'end station latitude', 'end station longitude', 'bikeid', 'usertype',\n",
       "       'birth year', 'gender'],\n",
       "      dtype='object')"
      ]
     },
     "execution_count": 10,
     "metadata": {},
     "output_type": "execute_result"
    }
   ],
   "source": [
    "df_jun_19.columns"
   ]
  },
  {
   "cell_type": "code",
   "execution_count": 11,
   "id": "8351dee4",
   "metadata": {},
   "outputs": [
    {
     "data": {
      "text/plain": [
       "Index(['ride_id', 'rideable_type', 'started_at', 'ended_at',\n",
       "       'start_station_name', 'start_station_id', 'end_station_name',\n",
       "       'end_station_id', 'start_lat', 'start_lng', 'end_lat', 'end_lng',\n",
       "       'member_casual'],\n",
       "      dtype='object')"
      ]
     },
     "execution_count": 11,
     "metadata": {},
     "output_type": "execute_result"
    }
   ],
   "source": [
    "df_jun_22.columns"
   ]
  },
  {
   "cell_type": "code",
   "execution_count": null,
   "id": "1f78b569",
   "metadata": {},
   "outputs": [],
   "source": []
  }
 ],
 "metadata": {
  "kernelspec": {
   "display_name": "Python 3 (ipykernel)",
   "language": "python",
   "name": "python3"
  },
  "language_info": {
   "codemirror_mode": {
    "name": "ipython",
    "version": 3
   },
   "file_extension": ".py",
   "mimetype": "text/x-python",
   "name": "python",
   "nbconvert_exporter": "python",
   "pygments_lexer": "ipython3",
   "version": "3.8.12"
  }
 },
 "nbformat": 4,
 "nbformat_minor": 5
}
